{
 "cells": [
  {
   "cell_type": "markdown",
   "metadata": {},
   "source": [
    "# Playing with the Django ORM in Jupyter\n",
    "\n",
    "First, import the models:"
   ]
  },
  {
   "cell_type": "code",
   "execution_count": 1,
   "metadata": {},
   "outputs": [],
   "source": [
    "from trees.models import Tree, Species"
   ]
  },
  {
   "cell_type": "markdown",
   "metadata": {},
   "source": [
    "Let's use a Django ORM annotation to count the number of trees for each species:"
   ]
  },
  {
   "cell_type": "code",
   "execution_count": 2,
   "metadata": {},
   "outputs": [
    {
     "name": "stdout",
     "output_type": "stream",
     "text": [
      "Morera 18809\n",
      "Fresno europeo 8037\n",
      "Pltano 4319\n",
      "Paraiso 4064\n",
      "N/D 2831\n",
      "Fresno americano 2022\n",
      "Acacia SP 1038\n",
      "Acer 951\n",
      "Paraiso sombrilla 809\n",
      "Olmo comun 776\n",
      "Caducifolio 650\n",
      "Prunas 558\n",
      "Jacarand 523\n",
      "Perenne 470\n",
      "Aguaribay 423\n",
      "Olmo bola 323\n",
      "Ailanthus 299\n",
      "Conifera 252\n",
      "Ligustro 202\n",
      "Tilo 196\n",
      "lamo blanco 167\n",
      "Tipa 127\n",
      "Braquiquito 109\n",
      "lamo criollo 108\n",
      "Acacia visco 108\n",
      "Liquidambar 99\n",
      "Palo borracho 64\n",
      "Catalpa 45\n",
      "Eucalyptus 26\n",
      "Algarrobo 7\n",
      "Arabia 4\n",
      "rbol del cielo 2\n",
      "Maiten 1\n"
     ]
    }
   ],
   "source": [
    "from django.db.models import Count\n",
    "\n",
    "for s in Species.objects.annotate(\n",
    "    num_trees = Count('tree')\n",
    ").order_by('-num_trees'):\n",
    "    print(s.name, s.num_trees)"
   ]
  },
  {
   "cell_type": "markdown",
   "metadata": {},
   "source": [
    "Here's the SQL that was used for that query:"
   ]
  },
  {
   "cell_type": "code",
   "execution_count": 3,
   "metadata": {},
   "outputs": [
    {
     "data": {
      "text/plain": [
       "{'sql': 'SELECT \"trees_species\".\"id\", \"trees_species\".\"name\", COUNT(\"trees_tree\".\"id\") AS \"num_trees\" FROM \"trees_species\" LEFT OUTER JOIN \"trees_tree\" ON (\"trees_species\".\"id\" = \"trees_tree\".\"species_id\") GROUP BY \"trees_species\".\"id\", \"trees_species\".\"name\" ORDER BY \"num_trees\" DESC',\n",
       " 'time': '0.045'}"
      ]
     },
     "execution_count": 3,
     "metadata": {},
     "output_type": "execute_result"
    }
   ],
   "source": [
    "from django.db import connection\n",
    "connection.queries[-1]"
   ]
  },
  {
   "cell_type": "markdown",
   "metadata": {},
   "source": [
    "Let's loop through the first 20 trees and display them:"
   ]
  },
  {
   "cell_type": "code",
   "execution_count": 4,
   "metadata": {},
   "outputs": [
    {
     "name": "stdout",
     "output_type": "stream",
     "text": [
      "-32.8747311819 -68.8404148439 Jacarand\n",
      "-32.8746870145999 -68.8403995242999 Jacarand\n",
      "-32.8746428589999 -68.8403934432 Jacarand\n",
      "-32.8959944483 -68.8574212648999 Fresno europeo\n",
      "-32.8959160026 -68.8574162229 Fresno europeo\n",
      "-32.8958575989 -68.8574080471999 Morera\n",
      "-32.8958265686 -68.8573570714 Fresno europeo\n",
      "-32.8958308492999 -68.8572981214 Morera\n",
      "-32.895838834 -68.8572185353999 Morera\n",
      "-32.8958462025 -68.8571426345999 Morera\n",
      "-32.8958536317 -68.8570828522999 Morera\n",
      "-32.8958572817999 -68.8570150631999 Morera\n",
      "-32.8958654194 -68.8569486959 Morera\n",
      "-32.8958690676999 -68.8568794317999 Fresno americano\n",
      "-32.8958764401999 -68.8568072161999 Morera\n",
      "-32.8958801479 -68.8567599137 Morera\n",
      "-32.8958850495999 -68.8567009637 N/D\n",
      "-32.8958905758999 -68.8566442208 Morera\n",
      "-32.8958954910999 -68.8565970585 Morera\n",
      "-32.8958979196999 -68.8565423330999 Fresno americano\n"
     ]
    }
   ],
   "source": [
    "for tree in Tree.objects.all()[:20]:\n",
    "    print(tree.latitude, tree.longitude, tree.species.name)"
   ]
  },
  {
   "cell_type": "markdown",
   "metadata": {},
   "source": [
    "This was actually very inefficient: it used 21 SQL queries!"
   ]
  },
  {
   "cell_type": "code",
   "execution_count": 7,
   "metadata": {},
   "outputs": [
    {
     "data": {
      "text/plain": [
       "[{'sql': 'SELECT \"trees_tree\".\"id\", \"trees_tree\".\"species_id\", \"trees_tree\".\"latitude\", \"trees_tree\".\"longitude\" FROM \"trees_tree\" LIMIT 20',\n",
       "  'time': '0.006'},\n",
       " {'sql': 'SELECT \"trees_species\".\"id\", \"trees_species\".\"name\" FROM \"trees_species\" WHERE \"trees_species\".\"id\" = 1',\n",
       "  'time': '0.000'},\n",
       " {'sql': 'SELECT \"trees_species\".\"id\", \"trees_species\".\"name\" FROM \"trees_species\" WHERE \"trees_species\".\"id\" = 1',\n",
       "  'time': '0.000'},\n",
       " {'sql': 'SELECT \"trees_species\".\"id\", \"trees_species\".\"name\" FROM \"trees_species\" WHERE \"trees_species\".\"id\" = 1',\n",
       "  'time': '0.000'},\n",
       " {'sql': 'SELECT \"trees_species\".\"id\", \"trees_species\".\"name\" FROM \"trees_species\" WHERE \"trees_species\".\"id\" = 2',\n",
       "  'time': '0.000'},\n",
       " {'sql': 'SELECT \"trees_species\".\"id\", \"trees_species\".\"name\" FROM \"trees_species\" WHERE \"trees_species\".\"id\" = 2',\n",
       "  'time': '0.000'},\n",
       " {'sql': 'SELECT \"trees_species\".\"id\", \"trees_species\".\"name\" FROM \"trees_species\" WHERE \"trees_species\".\"id\" = 3',\n",
       "  'time': '0.000'},\n",
       " {'sql': 'SELECT \"trees_species\".\"id\", \"trees_species\".\"name\" FROM \"trees_species\" WHERE \"trees_species\".\"id\" = 2',\n",
       "  'time': '0.000'},\n",
       " {'sql': 'SELECT \"trees_species\".\"id\", \"trees_species\".\"name\" FROM \"trees_species\" WHERE \"trees_species\".\"id\" = 3',\n",
       "  'time': '0.000'},\n",
       " {'sql': 'SELECT \"trees_species\".\"id\", \"trees_species\".\"name\" FROM \"trees_species\" WHERE \"trees_species\".\"id\" = 3',\n",
       "  'time': '0.000'},\n",
       " {'sql': 'SELECT \"trees_species\".\"id\", \"trees_species\".\"name\" FROM \"trees_species\" WHERE \"trees_species\".\"id\" = 3',\n",
       "  'time': '0.000'},\n",
       " {'sql': 'SELECT \"trees_species\".\"id\", \"trees_species\".\"name\" FROM \"trees_species\" WHERE \"trees_species\".\"id\" = 3',\n",
       "  'time': '0.000'},\n",
       " {'sql': 'SELECT \"trees_species\".\"id\", \"trees_species\".\"name\" FROM \"trees_species\" WHERE \"trees_species\".\"id\" = 3',\n",
       "  'time': '0.000'},\n",
       " {'sql': 'SELECT \"trees_species\".\"id\", \"trees_species\".\"name\" FROM \"trees_species\" WHERE \"trees_species\".\"id\" = 3',\n",
       "  'time': '0.000'},\n",
       " {'sql': 'SELECT \"trees_species\".\"id\", \"trees_species\".\"name\" FROM \"trees_species\" WHERE \"trees_species\".\"id\" = 4',\n",
       "  'time': '0.000'},\n",
       " {'sql': 'SELECT \"trees_species\".\"id\", \"trees_species\".\"name\" FROM \"trees_species\" WHERE \"trees_species\".\"id\" = 3',\n",
       "  'time': '0.000'},\n",
       " {'sql': 'SELECT \"trees_species\".\"id\", \"trees_species\".\"name\" FROM \"trees_species\" WHERE \"trees_species\".\"id\" = 3',\n",
       "  'time': '0.000'},\n",
       " {'sql': 'SELECT \"trees_species\".\"id\", \"trees_species\".\"name\" FROM \"trees_species\" WHERE \"trees_species\".\"id\" = 5',\n",
       "  'time': '0.001'},\n",
       " {'sql': 'SELECT \"trees_species\".\"id\", \"trees_species\".\"name\" FROM \"trees_species\" WHERE \"trees_species\".\"id\" = 3',\n",
       "  'time': '0.000'},\n",
       " {'sql': 'SELECT \"trees_species\".\"id\", \"trees_species\".\"name\" FROM \"trees_species\" WHERE \"trees_species\".\"id\" = 3',\n",
       "  'time': '0.000'},\n",
       " {'sql': 'SELECT \"trees_species\".\"id\", \"trees_species\".\"name\" FROM \"trees_species\" WHERE \"trees_species\".\"id\" = 4',\n",
       "  'time': '0.000'}]"
      ]
     },
     "execution_count": 7,
     "metadata": {},
     "output_type": "execute_result"
    }
   ],
   "source": [
    "connection.queries[1:]"
   ]
  },
  {
   "cell_type": "markdown",
   "metadata": {},
   "source": [
    "If we use `.select_related('trees')` we can drop that down to just a single query:"
   ]
  },
  {
   "cell_type": "code",
   "execution_count": 9,
   "metadata": {},
   "outputs": [
    {
     "name": "stdout",
     "output_type": "stream",
     "text": [
      "-32.8747311819 -68.8404148439 Jacarand\n",
      "-32.8746870145999 -68.8403995242999 Jacarand\n",
      "-32.8746428589999 -68.8403934432 Jacarand\n",
      "-32.8959944483 -68.8574212648999 Fresno europeo\n",
      "-32.8959160026 -68.8574162229 Fresno europeo\n",
      "-32.8958575989 -68.8574080471999 Morera\n",
      "-32.8958265686 -68.8573570714 Fresno europeo\n",
      "-32.8958308492999 -68.8572981214 Morera\n",
      "-32.895838834 -68.8572185353999 Morera\n",
      "-32.8958462025 -68.8571426345999 Morera\n",
      "-32.8958536317 -68.8570828522999 Morera\n",
      "-32.8958572817999 -68.8570150631999 Morera\n",
      "-32.8958654194 -68.8569486959 Morera\n",
      "-32.8958690676999 -68.8568794317999 Fresno americano\n",
      "-32.8958764401999 -68.8568072161999 Morera\n",
      "-32.8958801479 -68.8567599137 Morera\n",
      "-32.8958850495999 -68.8567009637 N/D\n",
      "-32.8958905758999 -68.8566442208 Morera\n",
      "-32.8958954910999 -68.8565970585 Morera\n",
      "-32.8958979196999 -68.8565423330999 Fresno americano\n"
     ]
    }
   ],
   "source": [
    "for tree in Tree.objects.select_related('species')[:20]:\n",
    "    print(tree.latitude, tree.longitude, tree.species.name)"
   ]
  },
  {
   "cell_type": "code",
   "execution_count": 10,
   "metadata": {},
   "outputs": [
    {
     "data": {
      "text/plain": [
       "{'sql': 'SELECT \"trees_tree\".\"id\", \"trees_tree\".\"species_id\", \"trees_tree\".\"latitude\", \"trees_tree\".\"longitude\", \"trees_species\".\"id\", \"trees_species\".\"name\" FROM \"trees_tree\" INNER JOIN \"trees_species\" ON (\"trees_tree\".\"species_id\" = \"trees_species\".\"id\") LIMIT 20',\n",
       " 'time': '0.000'}"
      ]
     },
     "execution_count": 10,
     "metadata": {},
     "output_type": "execute_result"
    }
   ],
   "source": [
    "connection.queries[-1]"
   ]
  },
  {
   "cell_type": "code",
   "execution_count": null,
   "metadata": {},
   "outputs": [],
   "source": []
  }
 ],
 "metadata": {
  "kernelspec": {
   "display_name": "Django Shell-Plus",
   "language": "python",
   "name": "django_extensions"
  },
  "language_info": {
   "codemirror_mode": {
    "name": "ipython",
    "version": 3
   },
   "file_extension": ".py",
   "mimetype": "text/x-python",
   "name": "python",
   "nbconvert_exporter": "python",
   "pygments_lexer": "ipython3",
   "version": "3.6.5"
  }
 },
 "nbformat": 4,
 "nbformat_minor": 2
}
